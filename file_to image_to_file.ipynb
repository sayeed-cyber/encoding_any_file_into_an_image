{
 "cells": [
  {
   "cell_type": "markdown",
   "metadata": {},
   "source": [
    "## converting files to images"
   ]
  },
  {
   "cell_type": "code",
   "execution_count": 6,
   "metadata": {},
   "outputs": [
    {
     "name": "stdout",
     "output_type": "stream",
     "text": [
      "Files encoded successfully!\n"
     ]
    }
   ],
   "source": [
    "import os\n",
    "from PIL import Image\n",
    "\n",
    "def encode_file_to_png(input_file, output_image_prefix):\n",
    "    # Read the binary data from the input file\n",
    "    with open(input_file, 'rb') as f:\n",
    "        data = f.read()\n",
    "    \n",
    "    # Calculate the total number of pixels in each image\n",
    "    total_pixels = 3840 * 2160\n",
    "    \n",
    "    # Calculate the total number of bytes needed to store all data\n",
    "    total_bytes = len(data)\n",
    "    \n",
    "    # Calculate the number of images needed\n",
    "    num_images = (total_bytes // (total_pixels * 3)) + 1 if total_bytes % (total_pixels * 3) != 0 else total_bytes // (total_pixels * 3)\n",
    "    \n",
    "    # Encode data into multiple images\n",
    "    for i in range(num_images):\n",
    "        # Calculate the range of bytes for this image\n",
    "        start_index = i * total_pixels * 3\n",
    "        end_index = min((i + 1) * total_pixels * 3, total_bytes)\n",
    "        image_data = data[start_index:end_index]\n",
    "        \n",
    "        # Fill the remaining space with null bytes if needed\n",
    "        remaining_bytes = total_pixels * 3 - len(image_data)\n",
    "        image_data += bytes([0] * remaining_bytes)\n",
    "        \n",
    "        # Convert the binary data to RGB tuples\n",
    "        pixels = [(image_data[j], image_data[j+1], image_data[j+2]) for j in range(0, len(image_data), 3)]\n",
    "        \n",
    "        # Create an image with RGB data\n",
    "        img = Image.new('RGB', (3840, 2160))\n",
    "        img.putdata(pixels)\n",
    "        \n",
    "        # Save the image as PNG\n",
    "        img.save(f\"{output_image_prefix}_{i}.png\")\n",
    "\n",
    "# Example usage\n",
    "input_file = 'readme.md'\n",
    "output_image_prefix = 'im/encoded_image'\n",
    "encode_file_to_png(input_file, output_image_prefix)\n",
    "\n",
    "print(\"Files encoded successfully!\")\n"
   ]
  },
  {
   "cell_type": "markdown",
   "metadata": {},
   "source": [
    "## Reconstructing file from the images"
   ]
  },
  {
   "cell_type": "code",
   "execution_count": 7,
   "metadata": {},
   "outputs": [
    {
     "name": "stdout",
     "output_type": "stream",
     "text": [
      "Files decoded and reconstructed successfully!\n"
     ]
    }
   ],
   "source": [
    "import os\n",
    "from PIL import Image\n",
    "\n",
    "def decode_png_to_file(input_folder, output_file):\n",
    "    # List all PNG images in the input folder\n",
    "    png_files = [file for file in os.listdir(input_folder) if file.endswith('.png')]\n",
    "    \n",
    "    # Sort the list of PNG images based on their filenames\n",
    "    png_files.sort()\n",
    "    \n",
    "    # Initialize an empty list to store image data\n",
    "    data = []\n",
    "    \n",
    "    # Iterate through each PNG image and extract data\n",
    "    for png_file in png_files:\n",
    "        # Open the PNG image\n",
    "        img = Image.open(os.path.join(input_folder, png_file))\n",
    "        \n",
    "        # Convert image data to binary and append to the data list\n",
    "        data.extend(list(img.tobytes()))\n",
    "    \n",
    "    # Write the combined binary data to the output file\n",
    "    with open(output_file, 'wb') as f:\n",
    "        f.write(bytes(data))\n",
    "\n",
    "# Example usage\n",
    "input_folder = 'im'  # Assuming PNG images are stored in the 'im' folder\n",
    "decoded_file = 'decoded_file.md'\n",
    "\n",
    "# Decode all PNG images in the folder and reconstruct the original file\n",
    "decode_png_to_file(input_folder, decoded_file)\n",
    "\n",
    "print(\"Files decoded and reconstructed successfully!\")\n"
   ]
  },
  {
   "cell_type": "code",
   "execution_count": null,
   "metadata": {},
   "outputs": [],
   "source": []
  }
 ],
 "metadata": {
  "kernelspec": {
   "display_name": "Python 3",
   "language": "python",
   "name": "python3"
  },
  "language_info": {
   "codemirror_mode": {
    "name": "ipython",
    "version": 3
   },
   "file_extension": ".py",
   "mimetype": "text/x-python",
   "name": "python",
   "nbconvert_exporter": "python",
   "pygments_lexer": "ipython3",
   "version": "3.9.6"
  }
 },
 "nbformat": 4,
 "nbformat_minor": 2
}
