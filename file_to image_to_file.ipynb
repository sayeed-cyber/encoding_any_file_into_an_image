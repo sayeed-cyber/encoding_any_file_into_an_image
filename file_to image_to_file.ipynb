{
 "cells": [
  {
   "cell_type": "markdown",
   "metadata": {},
   "source": [
    "## converting files to images"
   ]
  },
  {
   "cell_type": "code",
   "execution_count": 2,
   "metadata": {},
   "outputs": [
    {
     "ename": "FileNotFoundError",
     "evalue": "[Errno 2] No such file or directory: '/Users/sayeedkhan/Desktop/encoding_any_file_into_an_image/im/encoded_image_0.png'",
     "output_type": "error",
     "traceback": [
      "\u001b[0;31m---------------------------------------------------------------------------\u001b[0m",
      "\u001b[0;31mFileNotFoundError\u001b[0m                         Traceback (most recent call last)",
      "Cell \u001b[0;32mIn[2], line 42\u001b[0m\n\u001b[1;32m     40\u001b[0m input_file \u001b[38;5;241m=\u001b[39m \u001b[38;5;124m'\u001b[39m\u001b[38;5;124mUG_First_Year_Syllabus.pdf\u001b[39m\u001b[38;5;124m'\u001b[39m\n\u001b[1;32m     41\u001b[0m output_image_prefix \u001b[38;5;241m=\u001b[39m \u001b[38;5;124m'\u001b[39m\u001b[38;5;124mim/encoded_image\u001b[39m\u001b[38;5;124m'\u001b[39m\n\u001b[0;32m---> 42\u001b[0m \u001b[43mencode_file_to_png\u001b[49m\u001b[43m(\u001b[49m\u001b[43minput_file\u001b[49m\u001b[43m,\u001b[49m\u001b[43m \u001b[49m\u001b[43moutput_image_prefix\u001b[49m\u001b[43m)\u001b[49m\n\u001b[1;32m     44\u001b[0m \u001b[38;5;28mprint\u001b[39m(\u001b[38;5;124m\"\u001b[39m\u001b[38;5;124mFiles encoded successfully!\u001b[39m\u001b[38;5;124m\"\u001b[39m)\n",
      "Cell \u001b[0;32mIn[2], line 37\u001b[0m, in \u001b[0;36mencode_file_to_png\u001b[0;34m(input_file, output_image_prefix)\u001b[0m\n\u001b[1;32m     34\u001b[0m img\u001b[38;5;241m.\u001b[39mputdata(pixels)\n\u001b[1;32m     36\u001b[0m \u001b[38;5;66;03m# Save the image as PNG\u001b[39;00m\n\u001b[0;32m---> 37\u001b[0m \u001b[43mimg\u001b[49m\u001b[38;5;241;43m.\u001b[39;49m\u001b[43msave\u001b[49m\u001b[43m(\u001b[49m\u001b[38;5;124;43mf\u001b[39;49m\u001b[38;5;124;43m\"\u001b[39;49m\u001b[38;5;132;43;01m{\u001b[39;49;00m\u001b[43moutput_image_prefix\u001b[49m\u001b[38;5;132;43;01m}\u001b[39;49;00m\u001b[38;5;124;43m_\u001b[39;49m\u001b[38;5;132;43;01m{\u001b[39;49;00m\u001b[43mi\u001b[49m\u001b[38;5;132;43;01m}\u001b[39;49;00m\u001b[38;5;124;43m.png\u001b[39;49m\u001b[38;5;124;43m\"\u001b[39;49m\u001b[43m)\u001b[49m\n",
      "File \u001b[0;32m~/Library/Python/3.9/lib/python/site-packages/PIL/Image.py:2456\u001b[0m, in \u001b[0;36mImage.save\u001b[0;34m(self, fp, format, **params)\u001b[0m\n\u001b[1;32m   2454\u001b[0m         fp \u001b[38;5;241m=\u001b[39m builtins\u001b[38;5;241m.\u001b[39mopen(filename, \u001b[38;5;124m\"\u001b[39m\u001b[38;5;124mr+b\u001b[39m\u001b[38;5;124m\"\u001b[39m)\n\u001b[1;32m   2455\u001b[0m     \u001b[38;5;28;01melse\u001b[39;00m:\n\u001b[0;32m-> 2456\u001b[0m         fp \u001b[38;5;241m=\u001b[39m \u001b[43mbuiltins\u001b[49m\u001b[38;5;241;43m.\u001b[39;49m\u001b[43mopen\u001b[49m\u001b[43m(\u001b[49m\u001b[43mfilename\u001b[49m\u001b[43m,\u001b[49m\u001b[43m \u001b[49m\u001b[38;5;124;43m\"\u001b[39;49m\u001b[38;5;124;43mw+b\u001b[39;49m\u001b[38;5;124;43m\"\u001b[39;49m\u001b[43m)\u001b[49m\n\u001b[1;32m   2458\u001b[0m \u001b[38;5;28;01mtry\u001b[39;00m:\n\u001b[1;32m   2459\u001b[0m     save_handler(\u001b[38;5;28mself\u001b[39m, fp, filename)\n",
      "\u001b[0;31mFileNotFoundError\u001b[0m: [Errno 2] No such file or directory: '/Users/sayeedkhan/Desktop/encoding_any_file_into_an_image/im/encoded_image_0.png'"
     ]
    }
   ],
   "source": [
    "import os\n",
    "from PIL import Image\n",
    "\n",
    "def encode_file_to_png(input_file, output_image_prefix):\n",
    "    # Read the binary data from the input file\n",
    "    with open(input_file, 'rb') as f:\n",
    "        data = f.read()\n",
    "    \n",
    "    # Calculate the total number of pixels in each image\n",
    "    total_pixels = 3840 * 2160\n",
    "    \n",
    "    # Calculate the total number of bytes needed to store all data\n",
    "    total_bytes = len(data)\n",
    "    \n",
    "    # Calculate the number of images needed\n",
    "    num_images = (total_bytes // (total_pixels * 3)) + 1 if total_bytes % (total_pixels * 3) != 0 else total_bytes // (total_pixels * 3)\n",
    "    \n",
    "    # Encode data into multiple images\n",
    "    for i in range(num_images):\n",
    "        # Calculate the range of bytes for this image\n",
    "        start_index = i * total_pixels * 3\n",
    "        end_index = min((i + 1) * total_pixels * 3, total_bytes)\n",
    "        image_data = data[start_index:end_index]\n",
    "        \n",
    "        # Fill the remaining space with null bytes if needed\n",
    "        remaining_bytes = total_pixels * 3 - len(image_data)\n",
    "        image_data += bytes([0] * remaining_bytes)\n",
    "        \n",
    "        # Convert the binary data to RGB tuples\n",
    "        pixels = [(image_data[j], image_data[j+1], image_data[j+2]) for j in range(0, len(image_data), 3)]\n",
    "        \n",
    "        # Create an image with RGB data\n",
    "        img = Image.new('RGB', (3840, 2160))\n",
    "        img.putdata(pixels)\n",
    "        \n",
    "        # Save the image as PNG\n",
    "        img.save(f\"{output_image_prefix}_{i}.png\")\n",
    "\n",
    "# Example usage\n",
    "input_file = 'UG_First_Year_Syllabus.pdf'\n",
    "output_image_prefix = 'im/encoded_image'\n",
    "encode_file_to_png(input_file, output_image_prefix)\n",
    "\n",
    "print(\"Files encoded successfully!\")\n"
   ]
  },
  {
   "cell_type": "markdown",
   "metadata": {},
   "source": [
    "## Reconstructing file from the images."
   ]
  },
  {
   "cell_type": "code",
   "execution_count": 7,
   "metadata": {},
   "outputs": [
    {
     "name": "stdout",
     "output_type": "stream",
     "text": [
      "Files decoded and reconstructed successfully!\n"
     ]
    }
   ],
   "source": [
    "import os\n",
    "from PIL import Image\n",
    "\n",
    "def decode_png_to_file(input_folder, output_file):\n",
    "    # List all PNG images in the input folder\n",
    "    png_files = [file for file in os.listdir(input_folder) if file.endswith('.png')]\n",
    "    \n",
    "    # Sort the list of PNG images based on their filenames\n",
    "    png_files.sort()\n",
    "    \n",
    "    # Initialize an empty list to store image data\n",
    "    data = []\n",
    "    \n",
    "    # Iterate through each PNG image and extract data\n",
    "    for png_file in png_files:\n",
    "        # Open the PNG image\n",
    "        img = Image.open(os.path.join(input_folder, png_file))\n",
    "        \n",
    "        # Convert image data to binary and append to the data list\n",
    "        data.extend(list(img.tobytes()))\n",
    "    \n",
    "    # Write the combined binary data to the output file\n",
    "    with open(output_file, 'wb') as f:\n",
    "        f.write(bytes(data))\n",
    "\n",
    "# Example usage\n",
    "input_folder = 'im'  # Assuming PNG images are stored in the 'im' folder\n",
    "decoded_file = 'decoded_file.pdf'\n",
    "\n",
    "# Decode all PNG images in the folder and reconstruct the original file\n",
    "decode_png_to_file(input_folder, decoded_file)\n",
    "\n",
    "print(\"Files decoded and reconstructed successfully!\")\n"
   ]
  },
  {
   "cell_type": "code",
   "execution_count": null,
   "metadata": {},
   "outputs": [],
   "source": []
  }
 ],
 "metadata": {
  "kernelspec": {
   "display_name": "Python 3",
   "language": "python",
   "name": "python3"
  },
  "language_info": {
   "codemirror_mode": {
    "name": "ipython",
    "version": 3
   },
   "file_extension": ".py",
   "mimetype": "text/x-python",
   "name": "python",
   "nbconvert_exporter": "python",
   "pygments_lexer": "ipython3",
   "version": "3.9.6"
  }
 },
 "nbformat": 4,
 "nbformat_minor": 2
}
